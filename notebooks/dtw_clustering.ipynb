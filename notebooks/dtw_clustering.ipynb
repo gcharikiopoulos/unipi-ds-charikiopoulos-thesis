{
 "cells": [
  {
   "cell_type": "markdown",
   "id": "489807e5",
   "metadata": {},
   "source": [
    "**TimeSeriesKMeans-DTW based Vessel Trajectory Clustering Analysis**\n",
    "\n",
    "This notebook performs TimeSeriesKMeans with Dynamic Time Warping (DTW) clustering analysis on AIS (Automatic Identification System) vessel trajectories in US waters during 2024. It identifies representative vessel movement patterns (medoids) that can be integrated with the Flask web application for visualization."
   ]
  },
  {
   "cell_type": "code",
   "execution_count": 42,
   "id": "45b93f93",
   "metadata": {},
   "outputs": [
    {
     "name": "stdout",
     "output_type": "stream",
     "text": [
      "Python executable: c:\\Users\\Jorge\\Projects\\unipi-ds-charikiopoulos-thesis\\venv\\Scripts\\python.exe\n",
      "Virtual environment active: True\n",
      "Environment variables loaded from .env file\n",
      "All modules imported successfully!\n"
     ]
    }
   ],
   "source": [
    "# Imports and Environment Verification\n",
    "import warnings\n",
    "warnings.filterwarnings(\"ignore\", message=\"h5py not installed\")\n",
    "warnings.filterwarnings(\"ignore\", category=FutureWarning)\n",
    "warnings.filterwarnings(\"ignore\", category=UserWarning)\n",
    "\n",
    "import sys\n",
    "import os\n",
    "from dotenv import load_dotenv\n",
    "print(f\"Python executable: {sys.executable}\")\n",
    "print(f\"Virtual environment active: {'venv' in sys.executable}\")\n",
    "\n",
    "# Load environment variables from .env file\n",
    "load_dotenv()\n",
    "print(\"Environment variables loaded from .env file\")\n",
    "\n",
    "import psycopg2\n",
    "from psycopg2.extras import RealDictCursor\n",
    "import pandas as pd\n",
    "import numpy as np\n",
    "from tabulate import tabulate\n",
    "from tslearn.clustering import TimeSeriesKMeans\n",
    "from tslearn.metrics import dtw\n",
    "import matplotlib.pyplot as plt\n",
    "import time\n",
    "from datetime import datetime\n",
    "\n",
    "print(\"All modules imported successfully!\")"
   ]
  },
  {
   "cell_type": "code",
   "execution_count": 43,
   "id": "645391d9",
   "metadata": {},
   "outputs": [
    {
     "name": "stdout",
     "output_type": "stream",
     "text": [
      "Raw query result length: 1344790\n",
      "DataFrame length: 1344790\n",
      "\n",
      "Dataset Overview:\n",
      "- Unique vessels (MMSIs): 702\n",
      "- Date range: 2024-01-01 00:00:00 to 2024-12-31 23:59:05\n",
      "- Vessel categories: ['cargo' 'tanker' 'passenger' 'fishing']\n",
      "==================================================\n"
     ]
    }
   ],
   "source": [
    "# Load vessel trajectory data from the database for DTW clustering analysis\n",
    "\n",
    "# Database connection using environment variables\n",
    "conn = psycopg2.connect(\n",
    "    host=os.getenv('DB_HOST', 'localhost'),\n",
    "    database=os.getenv('DB_NAME', 'postgres'),\n",
    "    user=os.getenv('DB_USER', 'postgres'),\n",
    "    password=os.getenv('DB_PASSWORD'),\n",
    "    port=os.getenv('DB_PORT', '5432')\n",
    ")\n",
    "\n",
    "cursor = conn.cursor(cursor_factory=RealDictCursor)\n",
    "    \n",
    "query = \"\"\"\n",
    "SELECT\n",
    "    mmsi,\n",
    "    lat,\n",
    "    lon,\n",
    "    datetime_utc,\n",
    "    utm_x,\n",
    "    utm_y,\n",
    "    CASE\n",
    "        WHEN vessel_type = 30 THEN 'fishing'\n",
    "        WHEN vessel_type BETWEEN 60 AND 69 THEN 'passenger'\n",
    "        WHEN vessel_type BETWEEN 70 AND 79 THEN 'cargo'\n",
    "        WHEN vessel_type BETWEEN 80 AND 89 THEN 'tanker'\n",
    "    END AS vessel_category\n",
    "FROM\n",
    "    vessel_trajectories_gulf_2024\n",
    "WHERE\n",
    "    (\n",
    "        vessel_type = 30\n",
    "        OR (vessel_type BETWEEN 60 AND 69)\n",
    "        OR (vessel_type BETWEEN 70 AND 79)\n",
    "        OR (vessel_type BETWEEN 80 AND 89)\n",
    "    )\n",
    "ORDER BY\n",
    "    mmsi,\n",
    "    datetime_utc ASC\n",
    ";\n",
    "\"\"\"\n",
    "\n",
    "cursor.execute(query)\n",
    "data = cursor.fetchall()\n",
    "cursor.close()\n",
    "conn.close()\n",
    "\n",
    "df = pd.DataFrame(data)\n",
    "print(f\"Raw query result length: {len(data)}\")\n",
    "print(f\"DataFrame length: {len(df)}\")\n",
    "\n",
    "# Display basic information about the dataset\n",
    "print(f\"\\nDataset Overview:\")\n",
    "print(f\"- Unique vessels (MMSIs): {df['mmsi'].nunique()}\")\n",
    "print(f\"- Date range: {df['datetime_utc'].min()} to {df['datetime_utc'].max()}\")\n",
    "print(f\"- Vessel categories: {df['vessel_category'].unique()}\")\n",
    "print(\"=\" * 50)"
   ]
  },
  {
   "cell_type": "code",
   "execution_count": 24,
   "id": "dcc1faaa",
   "metadata": {},
   "outputs": [
    {
     "name": "stdout",
     "output_type": "stream",
     "text": [
      "vessel_category    number_of_positions\n",
      "-----------------  ---------------------\n",
      "cargo              380,385\n",
      "fishing            451,879\n",
      "passenger          346,188\n",
      "tanker             166,338\n"
     ]
    }
   ],
   "source": [
    "# Group by MMSI and display the first group\n",
    "\n",
    "grouped = df.groupby(\"mmsi\")\n",
    "\n",
    "grouped_by_type = df.groupby(\"vessel_category\")\n",
    "tabulated = []\n",
    "\n",
    "for vessel_category, group in grouped_by_type:\n",
    "    tabulated.append([vessel_category, \"{:,}\".format(len(group))])\n",
    "\n",
    "print(tabulate(tabulated, headers=[\"vessel_category\", \"number_of_positions\"]))"
   ]
  },
  {
   "cell_type": "code",
   "execution_count": 25,
   "id": "38f21408",
   "metadata": {},
   "outputs": [],
   "source": [
    "# Function to resample trajectory data for each group\n",
    "# This function takes a DataFrame group and returns a resampled trajectory\n",
    "# with a specified number of points, interpolating missing values\n",
    "\n",
    "def resample_trajectory(df_group, num_points=100):\n",
    "    df_sorted = df_group.sort_values(\"datetime_utc\").set_index(\"datetime_utc\")\n",
    "    df_sorted = df_sorted[[\"utm_x\", \"utm_y\"]]\n",
    "    \n",
    "    # Create uniform timestamps between first and last\n",
    "    new_index = pd.date_range(df_sorted.index.min(), df_sorted.index.max(), periods=num_points)\n",
    "    \n",
    "    # Reindex and interpolate\n",
    "    df_resampled = df_sorted.reindex(new_index).interpolate(method=\"time\")\n",
    "    \n",
    "    return df_resampled.values  # returns a (num_points, 2) numpy array\n"
   ]
  },
  {
   "cell_type": "code",
   "execution_count": 26,
   "id": "cf59b0a3",
   "metadata": {},
   "outputs": [
    {
     "name": "stdout",
     "output_type": "stream",
     "text": [
      "Collected 702 trajectories (702 vessels).\n",
      "\n"
     ]
    }
   ],
   "source": [
    "# Resample trajectories for each group and store them in a list\n",
    "# this will create a list of numpy arrays, each representing a trajectory\n",
    "# with 100 points (lat, lon)\n",
    "\n",
    "trajectories = []\n",
    "vessel_ids = []\n",
    "\n",
    "for mmsi, group in grouped:\n",
    "    try:\n",
    "        traj = resample_trajectory(group)\n",
    "        if traj.shape == (100, 2):  # ensure consistent shape\n",
    "            trajectories.append(traj)\n",
    "            vessel_ids.append(mmsi)\n",
    "    except Exception as e:\n",
    "        print(f\"Skipping {mmsi}: {e}\")\n",
    "\n",
    "print(f\"Collected {len(trajectories)} trajectories ({len(vessel_ids)} vessels).\\n\")\n",
    "#print(f\"First vessel ID: {vessel_ids[0]}\")\n",
    "#print(f\"First trajectory shape:\\n{trajectories[0]}\")"
   ]
  },
  {
   "cell_type": "code",
   "execution_count": 27,
   "id": "3e05d114",
   "metadata": {},
   "outputs": [
    {
     "name": "stdout",
     "output_type": "stream",
     "text": [
      "Shape of numpy array X: (702, 100, 2)\n"
     ]
    }
   ],
   "source": [
    "# Convert the list of trajectories to a numpy array\n",
    "# Each trajectory is a numpy array of shape (100, 2)\n",
    "\n",
    "X = np.array(trajectories)\n",
    "print(\"Shape of numpy array X:\", X.shape)"
   ]
  },
  {
   "cell_type": "code",
   "execution_count": 28,
   "id": "3755f0e8",
   "metadata": {},
   "outputs": [],
   "source": [
    "# Calculate the DTW distances between all pairs of trajectories\n",
    "# This will create a distance matrix where each entry (i, j) is the DTW\n",
    "from tslearn.metrics import cdist_dtw\n",
    "distances = cdist_dtw(X)"
   ]
  },
  {
   "cell_type": "code",
   "execution_count": 29,
   "id": "143fee18",
   "metadata": {},
   "outputs": [],
   "source": [
    "# DTW Clustering Helper Functions\n",
    "\n",
    "# Silhouette score function using DTW\n",
    "def silhouette_score_dtw(X, labels, distances=None):\n",
    "    \"\"\"\n",
    "    Calculate silhouette score using pre-computed DTW distance matrix.\n",
    "    \n",
    "    Args:\n",
    "        X: Array of trajectories (not used directly, kept for compatibility)\n",
    "        labels: Cluster labels for each trajectory\n",
    "        distances: Pre-computed DTW distance matrix\n",
    "    \n",
    "    Returns:\n",
    "        Mean silhouette score for each cluster, across all trajectories\n",
    "    \"\"\"\n",
    "    n_samples = len(X)\n",
    "    unique_labels = np.unique(labels)\n",
    "\n",
    "    silhouette_scores = []\n",
    "    for i in range(n_samples):\n",
    "        same_cluster = labels == labels[i]\n",
    "        a = np.mean(distances[i][same_cluster]) if np.sum(same_cluster) > 1 else 0\n",
    "        b = np.min([\n",
    "            np.mean(distances[i][labels == other_label])\n",
    "            for other_label in unique_labels if other_label != labels[i]\n",
    "        ])\n",
    "        silhouette_scores.append((b - a) / max(a, b) if max(a, b) > 0 else 0)\n",
    "\n",
    "    return np.mean(silhouette_scores)\n",
    "\n",
    "# Function to find the medoid indices for each cluster\n",
    "def find_medoid_indices(X, labels, cluster_index):\n",
    "    \"\"\"\n",
    "    Find the medoid (most representative trajectory) for a given cluster.\n",
    "    \n",
    "    Args:\n",
    "        X: Array of all trajectories\n",
    "        labels: Cluster labels for each trajectory\n",
    "        cluster_index: Which cluster to find medoid for\n",
    "    \n",
    "    Returns:\n",
    "        Index of the medoid trajectory in the original array\n",
    "    \"\"\"\n",
    "    indices = [i for i, lbl in enumerate(labels) if lbl == cluster_index]\n",
    "    cluster_trajectories = [X[i] for i in indices]\n",
    "\n",
    "    total_dtw = []\n",
    "    for i, t1 in enumerate(cluster_trajectories):\n",
    "        dist_sum = sum(dtw(t1, t2) for j, t2 in enumerate(cluster_trajectories) if i != j)\n",
    "        total_dtw.append(dist_sum)\n",
    "\n",
    "    medoid_idx = indices[np.argmin(total_dtw)]\n",
    "    return medoid_idx"
   ]
  },
  {
   "cell_type": "code",
   "execution_count": 35,
   "id": "6b512e96",
   "metadata": {},
   "outputs": [
    {
     "name": "stdout",
     "output_type": "stream",
     "text": [
      "Started DTW clustering analysis at: 02:23:57\n",
      "Processing k values: [2, 3, 4, 5, 6]\n",
      "--------------------------------------------------\n",
      "Processing k=2...\n",
      "  Silhouette score for k=2: 0.4143\n",
      "Processing k=3...\n",
      "  Silhouette score for k=3: 0.4375\n",
      "Processing k=4...\n",
      "  Silhouette score for k=4: 0.4451\n",
      "Processing k=5...\n",
      "  Silhouette score for k=5: 0.3431\n",
      "Processing k=6...\n",
      "  Silhouette score for k=6: 0.3427\n",
      "--------------------------------------------------\n",
      "Clustering analysis completed at: 02:28:15\n",
      "Total duration: 259 seconds\n",
      "\n",
      "BEST RESULTS:\n",
      "  Best k: 4\n",
      "  Best silhouette score: 0.4451\n",
      "  Medoid MMSIs: [367321850, 368323490, 371557000, 367151590]\n",
      "==================================================\n"
     ]
    }
   ],
   "source": [
    "# Run clustering and evaluation for different values of k\n",
    "# This will iterate over a range of k values and perform clustering\n",
    "# evaluate the silhouette score, and find medoids for each cluster\n",
    "\n",
    "# Setup\n",
    "k_values = range(2, 7)  # for k from 2 to 6\n",
    "silhouette_scores = {}\n",
    "cluster_models = {}\n",
    "cluster_labels = {}\n",
    "cluster_medoids = {}\n",
    "medoid_vessels_by_k = {}\n",
    "\n",
    "best_score = -1  # Minimum possible silhouette score is -1\n",
    "best_k = None\n",
    "best_labels = None\n",
    "best_medoids = None\n",
    "best_medoids_mmsi = None\n",
    "\n",
    "# Set random seed for reproducibility\n",
    "RANDOM_SEED = 42\n",
    "np.random.seed(RANDOM_SEED)\n",
    "\n",
    "# Start timer\n",
    "start_time = time.time()\n",
    "start_dt = datetime.now()\n",
    "print(f\"Started DTW clustering analysis at: {start_dt.strftime('%H:%M:%S')}\")\n",
    "print(f\"Processing k values: {list(k_values)}\")\n",
    "print(\"-\" * 50)\n",
    "\n",
    "# Main loop\n",
    "for k in k_values:\n",
    "    print(f\"Processing k={k}...\")\n",
    "    \n",
    "    # Use random_state for reproducible results - must be same as in numpy random seed\n",
    "    model = TimeSeriesKMeans(n_clusters=k, metric=\"dtw\", random_state=RANDOM_SEED, verbose=False)\n",
    "    labels = model.fit_predict(X)\n",
    "\n",
    "    score = silhouette_score_dtw(X, labels, distances)\n",
    "    print(f\"  Silhouette score for k={k}: {score:.4f}\")\n",
    "\n",
    "    medoid_indices = [find_medoid_indices(X, labels, i) for i in range(k)]\n",
    "    medoid_mmsi = [vessel_ids[idx] for idx in medoid_indices]\n",
    "\n",
    "    # Store results\n",
    "    silhouette_scores[k] = score\n",
    "    cluster_models[k] = model\n",
    "    cluster_labels[k] = labels\n",
    "    cluster_medoids[k] = medoid_indices\n",
    "    medoid_vessels_by_k[k] = medoid_mmsi\n",
    "\n",
    "    # Track best result\n",
    "    if score > best_score:\n",
    "        best_score = score\n",
    "        best_k = k\n",
    "        best_labels = labels\n",
    "        best_medoids = medoid_indices\n",
    "        best_medoids_mmsi = medoid_mmsi\n",
    "\n",
    "# End timer\n",
    "end_time = time.time()\n",
    "end_dt = datetime.now()\n",
    "duration = end_time - start_time\n",
    "\n",
    "print(\"-\" * 50)\n",
    "print(f\"Clustering analysis completed at: {end_dt.strftime('%H:%M:%S')}\")\n",
    "print(f\"Total duration: {duration:.0f} seconds\")\n",
    "print(f\"\\nBEST RESULTS:\")\n",
    "print(f\"  Best k: {best_k}\")\n",
    "print(f\"  Best silhouette score: {best_score:.4f}\")\n",
    "print(f\"  Medoid MMSIs: {best_medoids_mmsi}\")\n",
    "print(\"=\" * 50)"
   ]
  },
  {
   "cell_type": "code",
   "execution_count": 36,
   "id": "cc1c140e",
   "metadata": {},
   "outputs": [
    {
     "data": {
      "image/png": "[encoded data removed]",
      "text/plain": [
       "<Figure size 800x500 with 1 Axes>"
      ]
     },
     "metadata": {},
     "output_type": "display_data"
    }
   ],
   "source": [
    "# Plot the silhouette scores for each k value\n",
    "plt.figure(figsize=(8, 5))\n",
    "plt.plot(list(silhouette_scores.keys()), list(silhouette_scores.values()), marker='o')\n",
    "plt.title(\"Silhouette Score (DTW) vs Number of Clusters\")\n",
    "plt.xlabel(\"Number of Clusters (k)\")\n",
    "plt.ylabel(\"Silhouette Score\")\n",
    "plt.xticks(k_values)\n",
    "plt.grid(True)\n",
    "plt.tight_layout()\n",
    "plt.show()"
   ]
  },
  {
   "cell_type": "code",
   "execution_count": 37,
   "id": "cac6c2ee",
   "metadata": {},
   "outputs": [
    {
     "name": "stdout",
     "output_type": "stream",
     "text": [
      "   cluster  vessel_count\n",
      "0        0           281\n",
      "1        1           286\n",
      "2        2            34\n",
      "3        3           101\n"
     ]
    }
   ],
   "source": [
    "# Count number of trajectories per cluster using best_labels\n",
    "cluster_counts = pd.Series(best_labels).value_counts().sort_index()\n",
    "cluster_counts = cluster_counts.rename_axis(\"cluster\").reset_index(name=\"vessel_count\")\n",
    "\n",
    "print(cluster_counts)"
   ]
  },
  {
   "cell_type": "code",
   "execution_count": 39,
   "id": "ad838480",
   "metadata": {},
   "outputs": [
    {
     "name": "stdout",
     "output_type": "stream",
     "text": [
      "============================================================\n",
      "MEDOIDS EXPORT FOR FLASK APPLICATION\n",
      "============================================================\n",
      "\n",
      "1. BEST CLUSTERING RESULTS:\n",
      "   Best k: 4\n",
      "   Silhouette Score: 0.4451\n",
      "   Number of clusters: 4\n",
      "\n",
      "2. MEDOID VESSEL IDs (MMSIs):\n",
      "   Copy these values to app/services/vessel_service.py\n",
      "   Replace the medoid_mmsis_array in fetch_medoids_trajectories()\n",
      "\n",
      "   Python list format:\n",
      "   medoid_mmsis_array = [\n",
      "       367321850,  # Medoid for cluster 0\n",
      "       368323490,  # Medoid for cluster 1\n",
      "       371557000,  # Medoid for cluster 2\n",
      "       367151590  # Medoid for cluster 3\n",
      "   ]\n",
      "\n",
      "============================================================\n"
     ]
    }
   ],
   "source": [
    "# Export Medoids for Flask Application\n",
    "# This cell formats the medoid MMSIs for easy copy-paste into the Flask application\n",
    "\n",
    "print(\"=\" * 60)\n",
    "print(\"MEDOIDS EXPORT FOR FLASK APPLICATION\")\n",
    "print(\"=\" * 60)\n",
    "\n",
    "print(f\"\\n1. BEST CLUSTERING RESULTS:\")\n",
    "print(f\"   Best k: {best_k}\")\n",
    "print(f\"   Silhouette Score: {best_score:.4f}\")\n",
    "print(f\"   Number of clusters: {len(best_medoids_mmsi)}\")\n",
    "\n",
    "print(f\"\\n2. MEDOID VESSEL IDs (MMSIs):\")\n",
    "print(f\"   Copy these values to app/services/vessel_service.py\")\n",
    "print(f\"   Replace the medoid_mmsis_array in fetch_medoids_trajectories()\")\n",
    "\n",
    "print(\"\\n   Python list format:\")\n",
    "print(\"   medoid_mmsis_array = [\")\n",
    "for i, mmsi in enumerate(best_medoids_mmsi):\n",
    "    comma = \",\" if i < len(best_medoids_mmsi) - 1 else \"\"\n",
    "    print(f\"       {mmsi}{comma}  # Medoid for cluster {i}\")\n",
    "print(\"   ]\")\n",
    "print(\"\\n\" + \"=\" * 60)"
   ]
  }
 ],
 "metadata": {
  "kernelspec": {
   "display_name": "venv",
   "language": "python",
   "name": "python3"
  },
  "language_info": {
   "codemirror_mode": {
    "name": "ipython",
    "version": 3
   },
   "file_extension": ".py",
   "mimetype": "text/x-python",
   "name": "python",
   "nbconvert_exporter": "python",
   "pygments_lexer": "ipython3",
   "version": "3.13.0"
  }
 },
 "nbformat": 4,
 "nbformat_minor": 5
}
